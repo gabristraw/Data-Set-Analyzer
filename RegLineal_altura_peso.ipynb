{
  "cells": [
    {
      "cell_type": "code",
      "execution_count": null,
      "metadata": {
        "colab": {
          "base_uri": "https://localhost:8080/"
        },
        "id": "NNDJ2xNrYSo2",
        "outputId": "2d9ae3b7-3449-4746-9114-b7344ce74835"
      },
      "outputs": [
        {
          "output_type": "stream",
          "name": "stdout",
          "text": [
            "Looking in indexes: https://pypi.org/simple, https://us-python.pkg.dev/colab-wheels/public/simple/\n",
            "Requirement already satisfied: kaggle in /usr/local/lib/python3.8/dist-packages (1.5.12)\n",
            "Requirement already satisfied: certifi in /usr/local/lib/python3.8/dist-packages (from kaggle) (2022.9.24)\n",
            "Requirement already satisfied: requests in /usr/local/lib/python3.8/dist-packages (from kaggle) (2.23.0)\n",
            "Requirement already satisfied: six>=1.10 in /usr/local/lib/python3.8/dist-packages (from kaggle) (1.15.0)\n",
            "Requirement already satisfied: urllib3 in /usr/local/lib/python3.8/dist-packages (from kaggle) (1.24.3)\n",
            "Requirement already satisfied: tqdm in /usr/local/lib/python3.8/dist-packages (from kaggle) (4.64.1)\n",
            "Requirement already satisfied: python-slugify in /usr/local/lib/python3.8/dist-packages (from kaggle) (7.0.0)\n",
            "Requirement already satisfied: python-dateutil in /usr/local/lib/python3.8/dist-packages (from kaggle) (2.8.2)\n",
            "Requirement already satisfied: text-unidecode>=1.3 in /usr/local/lib/python3.8/dist-packages (from python-slugify->kaggle) (1.3)\n",
            "Requirement already satisfied: idna<3,>=2.5 in /usr/local/lib/python3.8/dist-packages (from requests->kaggle) (2.10)\n",
            "Requirement already satisfied: chardet<4,>=3.0.2 in /usr/local/lib/python3.8/dist-packages (from requests->kaggle) (3.0.4)\n",
            "Downloading weight-height.zip to /content\n",
            "100% 167k/167k [00:00<00:00, 658kB/s]\n",
            "100% 167k/167k [00:00<00:00, 657kB/s]\n"
          ]
        }
      ],
      "source": [
        "! pip install kaggle\n",
        "! mkdir ~/.kaggle\n",
        "! cp kaggle.json ~/.kaggle/\n",
        "! chmod 600 ~/.kaggle/kaggle.json\n",
        "! kaggle datasets download -d mustafaali96/weight-height"
      ]
    },
    {
      "cell_type": "code",
      "execution_count": null,
      "metadata": {
        "colab": {
          "base_uri": "https://localhost:8080/"
        },
        "id": "nuVourkQaXjB",
        "outputId": "6c6e0a16-ab8b-4ff0-872b-de23e544d355"
      },
      "outputs": [
        {
          "output_type": "stream",
          "name": "stdout",
          "text": [
            "Archive:  weight-height.zip\n",
            "  inflating: weight-height.csv       \n"
          ]
        }
      ],
      "source": [
        "! unzip weight-height"
      ]
    },
    {
      "cell_type": "code",
      "execution_count": null,
      "metadata": {
        "id": "P57kzg2CZcyY"
      },
      "outputs": [],
      "source": [
        "import pandas as pd \n",
        "import statsmodels as sm\n",
        "\n",
        "from google.colab import files \n",
        "\n",
        "df = pd.read_csv(\"/content/weight-height.csv\")"
      ]
    },
    {
      "cell_type": "code",
      "execution_count": null,
      "metadata": {
        "colab": {
          "base_uri": "https://localhost:8080/",
          "height": 300
        },
        "id": "MeI_nuFHZ2iO",
        "outputId": "803e3a32-7535-4944-8837-7db18ebe5e07"
      },
      "outputs": [
        {
          "output_type": "execute_result",
          "data": {
            "text/plain": [
              "             Height        Weight\n",
              "count  10000.000000  10000.000000\n",
              "mean      66.367560    161.440357\n",
              "std        3.847528     32.108439\n",
              "min       54.263133     64.700127\n",
              "25%       63.505620    135.818051\n",
              "50%       66.318070    161.212928\n",
              "75%       69.174262    187.169525\n",
              "max       78.998742    269.989699"
            ],
            "text/html": [
              "\n",
              "  <div id=\"df-cf64fa06-b0e2-4249-a6bc-2b0f65c9b459\">\n",
              "    <div class=\"colab-df-container\">\n",
              "      <div>\n",
              "<style scoped>\n",
              "    .dataframe tbody tr th:only-of-type {\n",
              "        vertical-align: middle;\n",
              "    }\n",
              "\n",
              "    .dataframe tbody tr th {\n",
              "        vertical-align: top;\n",
              "    }\n",
              "\n",
              "    .dataframe thead th {\n",
              "        text-align: right;\n",
              "    }\n",
              "</style>\n",
              "<table border=\"1\" class=\"dataframe\">\n",
              "  <thead>\n",
              "    <tr style=\"text-align: right;\">\n",
              "      <th></th>\n",
              "      <th>Height</th>\n",
              "      <th>Weight</th>\n",
              "    </tr>\n",
              "  </thead>\n",
              "  <tbody>\n",
              "    <tr>\n",
              "      <th>count</th>\n",
              "      <td>10000.000000</td>\n",
              "      <td>10000.000000</td>\n",
              "    </tr>\n",
              "    <tr>\n",
              "      <th>mean</th>\n",
              "      <td>66.367560</td>\n",
              "      <td>161.440357</td>\n",
              "    </tr>\n",
              "    <tr>\n",
              "      <th>std</th>\n",
              "      <td>3.847528</td>\n",
              "      <td>32.108439</td>\n",
              "    </tr>\n",
              "    <tr>\n",
              "      <th>min</th>\n",
              "      <td>54.263133</td>\n",
              "      <td>64.700127</td>\n",
              "    </tr>\n",
              "    <tr>\n",
              "      <th>25%</th>\n",
              "      <td>63.505620</td>\n",
              "      <td>135.818051</td>\n",
              "    </tr>\n",
              "    <tr>\n",
              "      <th>50%</th>\n",
              "      <td>66.318070</td>\n",
              "      <td>161.212928</td>\n",
              "    </tr>\n",
              "    <tr>\n",
              "      <th>75%</th>\n",
              "      <td>69.174262</td>\n",
              "      <td>187.169525</td>\n",
              "    </tr>\n",
              "    <tr>\n",
              "      <th>max</th>\n",
              "      <td>78.998742</td>\n",
              "      <td>269.989699</td>\n",
              "    </tr>\n",
              "  </tbody>\n",
              "</table>\n",
              "</div>\n",
              "      <button class=\"colab-df-convert\" onclick=\"convertToInteractive('df-cf64fa06-b0e2-4249-a6bc-2b0f65c9b459')\"\n",
              "              title=\"Convert this dataframe to an interactive table.\"\n",
              "              style=\"display:none;\">\n",
              "        \n",
              "  <svg xmlns=\"http://www.w3.org/2000/svg\" height=\"24px\"viewBox=\"0 0 24 24\"\n",
              "       width=\"24px\">\n",
              "    <path d=\"M0 0h24v24H0V0z\" fill=\"none\"/>\n",
              "    <path d=\"M18.56 5.44l.94 2.06.94-2.06 2.06-.94-2.06-.94-.94-2.06-.94 2.06-2.06.94zm-11 1L8.5 8.5l.94-2.06 2.06-.94-2.06-.94L8.5 2.5l-.94 2.06-2.06.94zm10 10l.94 2.06.94-2.06 2.06-.94-2.06-.94-.94-2.06-.94 2.06-2.06.94z\"/><path d=\"M17.41 7.96l-1.37-1.37c-.4-.4-.92-.59-1.43-.59-.52 0-1.04.2-1.43.59L10.3 9.45l-7.72 7.72c-.78.78-.78 2.05 0 2.83L4 21.41c.39.39.9.59 1.41.59.51 0 1.02-.2 1.41-.59l7.78-7.78 2.81-2.81c.8-.78.8-2.07 0-2.86zM5.41 20L4 18.59l7.72-7.72 1.47 1.35L5.41 20z\"/>\n",
              "  </svg>\n",
              "      </button>\n",
              "      \n",
              "  <style>\n",
              "    .colab-df-container {\n",
              "      display:flex;\n",
              "      flex-wrap:wrap;\n",
              "      gap: 12px;\n",
              "    }\n",
              "\n",
              "    .colab-df-convert {\n",
              "      background-color: #E8F0FE;\n",
              "      border: none;\n",
              "      border-radius: 50%;\n",
              "      cursor: pointer;\n",
              "      display: none;\n",
              "      fill: #1967D2;\n",
              "      height: 32px;\n",
              "      padding: 0 0 0 0;\n",
              "      width: 32px;\n",
              "    }\n",
              "\n",
              "    .colab-df-convert:hover {\n",
              "      background-color: #E2EBFA;\n",
              "      box-shadow: 0px 1px 2px rgba(60, 64, 67, 0.3), 0px 1px 3px 1px rgba(60, 64, 67, 0.15);\n",
              "      fill: #174EA6;\n",
              "    }\n",
              "\n",
              "    [theme=dark] .colab-df-convert {\n",
              "      background-color: #3B4455;\n",
              "      fill: #D2E3FC;\n",
              "    }\n",
              "\n",
              "    [theme=dark] .colab-df-convert:hover {\n",
              "      background-color: #434B5C;\n",
              "      box-shadow: 0px 1px 3px 1px rgba(0, 0, 0, 0.15);\n",
              "      filter: drop-shadow(0px 1px 2px rgba(0, 0, 0, 0.3));\n",
              "      fill: #FFFFFF;\n",
              "    }\n",
              "  </style>\n",
              "\n",
              "      <script>\n",
              "        const buttonEl =\n",
              "          document.querySelector('#df-cf64fa06-b0e2-4249-a6bc-2b0f65c9b459 button.colab-df-convert');\n",
              "        buttonEl.style.display =\n",
              "          google.colab.kernel.accessAllowed ? 'block' : 'none';\n",
              "\n",
              "        async function convertToInteractive(key) {\n",
              "          const element = document.querySelector('#df-cf64fa06-b0e2-4249-a6bc-2b0f65c9b459');\n",
              "          const dataTable =\n",
              "            await google.colab.kernel.invokeFunction('convertToInteractive',\n",
              "                                                     [key], {});\n",
              "          if (!dataTable) return;\n",
              "\n",
              "          const docLinkHtml = 'Like what you see? Visit the ' +\n",
              "            '<a target=\"_blank\" href=https://colab.research.google.com/notebooks/data_table.ipynb>data table notebook</a>'\n",
              "            + ' to learn more about interactive tables.';\n",
              "          element.innerHTML = '';\n",
              "          dataTable['output_type'] = 'display_data';\n",
              "          await google.colab.output.renderOutput(dataTable, element);\n",
              "          const docLink = document.createElement('div');\n",
              "          docLink.innerHTML = docLinkHtml;\n",
              "          element.appendChild(docLink);\n",
              "        }\n",
              "      </script>\n",
              "    </div>\n",
              "  </div>\n",
              "  "
            ]
          },
          "metadata": {},
          "execution_count": 4
        }
      ],
      "source": [
        "df.describe()"
      ]
    },
    {
      "cell_type": "code",
      "execution_count": null,
      "metadata": {
        "colab": {
          "base_uri": "https://localhost:8080/",
          "height": 206
        },
        "id": "qnZ_SXP7aJmX",
        "outputId": "ca10ca91-acaf-48a1-e028-53862cbc5029"
      },
      "outputs": [
        {
          "output_type": "execute_result",
          "data": {
            "text/plain": [
              "  Gender     Height      Weight\n",
              "0   Male  73.847017  241.893563\n",
              "1   Male  68.781904  162.310473\n",
              "2   Male  74.110105  212.740856\n",
              "3   Male  71.730978  220.042470\n",
              "4   Male  69.881796  206.349801"
            ],
            "text/html": [
              "\n",
              "  <div id=\"df-3bd75da4-0401-41f5-80aa-2e8f5ad08b14\">\n",
              "    <div class=\"colab-df-container\">\n",
              "      <div>\n",
              "<style scoped>\n",
              "    .dataframe tbody tr th:only-of-type {\n",
              "        vertical-align: middle;\n",
              "    }\n",
              "\n",
              "    .dataframe tbody tr th {\n",
              "        vertical-align: top;\n",
              "    }\n",
              "\n",
              "    .dataframe thead th {\n",
              "        text-align: right;\n",
              "    }\n",
              "</style>\n",
              "<table border=\"1\" class=\"dataframe\">\n",
              "  <thead>\n",
              "    <tr style=\"text-align: right;\">\n",
              "      <th></th>\n",
              "      <th>Gender</th>\n",
              "      <th>Height</th>\n",
              "      <th>Weight</th>\n",
              "    </tr>\n",
              "  </thead>\n",
              "  <tbody>\n",
              "    <tr>\n",
              "      <th>0</th>\n",
              "      <td>Male</td>\n",
              "      <td>73.847017</td>\n",
              "      <td>241.893563</td>\n",
              "    </tr>\n",
              "    <tr>\n",
              "      <th>1</th>\n",
              "      <td>Male</td>\n",
              "      <td>68.781904</td>\n",
              "      <td>162.310473</td>\n",
              "    </tr>\n",
              "    <tr>\n",
              "      <th>2</th>\n",
              "      <td>Male</td>\n",
              "      <td>74.110105</td>\n",
              "      <td>212.740856</td>\n",
              "    </tr>\n",
              "    <tr>\n",
              "      <th>3</th>\n",
              "      <td>Male</td>\n",
              "      <td>71.730978</td>\n",
              "      <td>220.042470</td>\n",
              "    </tr>\n",
              "    <tr>\n",
              "      <th>4</th>\n",
              "      <td>Male</td>\n",
              "      <td>69.881796</td>\n",
              "      <td>206.349801</td>\n",
              "    </tr>\n",
              "  </tbody>\n",
              "</table>\n",
              "</div>\n",
              "      <button class=\"colab-df-convert\" onclick=\"convertToInteractive('df-3bd75da4-0401-41f5-80aa-2e8f5ad08b14')\"\n",
              "              title=\"Convert this dataframe to an interactive table.\"\n",
              "              style=\"display:none;\">\n",
              "        \n",
              "  <svg xmlns=\"http://www.w3.org/2000/svg\" height=\"24px\"viewBox=\"0 0 24 24\"\n",
              "       width=\"24px\">\n",
              "    <path d=\"M0 0h24v24H0V0z\" fill=\"none\"/>\n",
              "    <path d=\"M18.56 5.44l.94 2.06.94-2.06 2.06-.94-2.06-.94-.94-2.06-.94 2.06-2.06.94zm-11 1L8.5 8.5l.94-2.06 2.06-.94-2.06-.94L8.5 2.5l-.94 2.06-2.06.94zm10 10l.94 2.06.94-2.06 2.06-.94-2.06-.94-.94-2.06-.94 2.06-2.06.94z\"/><path d=\"M17.41 7.96l-1.37-1.37c-.4-.4-.92-.59-1.43-.59-.52 0-1.04.2-1.43.59L10.3 9.45l-7.72 7.72c-.78.78-.78 2.05 0 2.83L4 21.41c.39.39.9.59 1.41.59.51 0 1.02-.2 1.41-.59l7.78-7.78 2.81-2.81c.8-.78.8-2.07 0-2.86zM5.41 20L4 18.59l7.72-7.72 1.47 1.35L5.41 20z\"/>\n",
              "  </svg>\n",
              "      </button>\n",
              "      \n",
              "  <style>\n",
              "    .colab-df-container {\n",
              "      display:flex;\n",
              "      flex-wrap:wrap;\n",
              "      gap: 12px;\n",
              "    }\n",
              "\n",
              "    .colab-df-convert {\n",
              "      background-color: #E8F0FE;\n",
              "      border: none;\n",
              "      border-radius: 50%;\n",
              "      cursor: pointer;\n",
              "      display: none;\n",
              "      fill: #1967D2;\n",
              "      height: 32px;\n",
              "      padding: 0 0 0 0;\n",
              "      width: 32px;\n",
              "    }\n",
              "\n",
              "    .colab-df-convert:hover {\n",
              "      background-color: #E2EBFA;\n",
              "      box-shadow: 0px 1px 2px rgba(60, 64, 67, 0.3), 0px 1px 3px 1px rgba(60, 64, 67, 0.15);\n",
              "      fill: #174EA6;\n",
              "    }\n",
              "\n",
              "    [theme=dark] .colab-df-convert {\n",
              "      background-color: #3B4455;\n",
              "      fill: #D2E3FC;\n",
              "    }\n",
              "\n",
              "    [theme=dark] .colab-df-convert:hover {\n",
              "      background-color: #434B5C;\n",
              "      box-shadow: 0px 1px 3px 1px rgba(0, 0, 0, 0.15);\n",
              "      filter: drop-shadow(0px 1px 2px rgba(0, 0, 0, 0.3));\n",
              "      fill: #FFFFFF;\n",
              "    }\n",
              "  </style>\n",
              "\n",
              "      <script>\n",
              "        const buttonEl =\n",
              "          document.querySelector('#df-3bd75da4-0401-41f5-80aa-2e8f5ad08b14 button.colab-df-convert');\n",
              "        buttonEl.style.display =\n",
              "          google.colab.kernel.accessAllowed ? 'block' : 'none';\n",
              "\n",
              "        async function convertToInteractive(key) {\n",
              "          const element = document.querySelector('#df-3bd75da4-0401-41f5-80aa-2e8f5ad08b14');\n",
              "          const dataTable =\n",
              "            await google.colab.kernel.invokeFunction('convertToInteractive',\n",
              "                                                     [key], {});\n",
              "          if (!dataTable) return;\n",
              "\n",
              "          const docLinkHtml = 'Like what you see? Visit the ' +\n",
              "            '<a target=\"_blank\" href=https://colab.research.google.com/notebooks/data_table.ipynb>data table notebook</a>'\n",
              "            + ' to learn more about interactive tables.';\n",
              "          element.innerHTML = '';\n",
              "          dataTable['output_type'] = 'display_data';\n",
              "          await google.colab.output.renderOutput(dataTable, element);\n",
              "          const docLink = document.createElement('div');\n",
              "          docLink.innerHTML = docLinkHtml;\n",
              "          element.appendChild(docLink);\n",
              "        }\n",
              "      </script>\n",
              "    </div>\n",
              "  </div>\n",
              "  "
            ]
          },
          "metadata": {},
          "execution_count": 5
        }
      ],
      "source": [
        "df.head()"
      ]
    },
    {
      "cell_type": "code",
      "execution_count": null,
      "metadata": {
        "colab": {
          "base_uri": "https://localhost:8080/",
          "height": 206
        },
        "id": "z0stRVrkkSAk",
        "outputId": "a5ab8444-19ad-4f33-eee8-978fe08c3e66"
      },
      "outputs": [
        {
          "output_type": "execute_result",
          "data": {
            "text/plain": [
              "      Gender     Height      Weight\n",
              "9995  Female  66.172652  136.777454\n",
              "9996  Female  67.067155  170.867906\n",
              "9997  Female  63.867992  128.475319\n",
              "9998  Female  69.034243  163.852461\n",
              "9999  Female  61.944246  113.649103"
            ],
            "text/html": [
              "\n",
              "  <div id=\"df-940b83a3-0dcf-4604-af0e-958f3b895fb4\">\n",
              "    <div class=\"colab-df-container\">\n",
              "      <div>\n",
              "<style scoped>\n",
              "    .dataframe tbody tr th:only-of-type {\n",
              "        vertical-align: middle;\n",
              "    }\n",
              "\n",
              "    .dataframe tbody tr th {\n",
              "        vertical-align: top;\n",
              "    }\n",
              "\n",
              "    .dataframe thead th {\n",
              "        text-align: right;\n",
              "    }\n",
              "</style>\n",
              "<table border=\"1\" class=\"dataframe\">\n",
              "  <thead>\n",
              "    <tr style=\"text-align: right;\">\n",
              "      <th></th>\n",
              "      <th>Gender</th>\n",
              "      <th>Height</th>\n",
              "      <th>Weight</th>\n",
              "    </tr>\n",
              "  </thead>\n",
              "  <tbody>\n",
              "    <tr>\n",
              "      <th>9995</th>\n",
              "      <td>Female</td>\n",
              "      <td>66.172652</td>\n",
              "      <td>136.777454</td>\n",
              "    </tr>\n",
              "    <tr>\n",
              "      <th>9996</th>\n",
              "      <td>Female</td>\n",
              "      <td>67.067155</td>\n",
              "      <td>170.867906</td>\n",
              "    </tr>\n",
              "    <tr>\n",
              "      <th>9997</th>\n",
              "      <td>Female</td>\n",
              "      <td>63.867992</td>\n",
              "      <td>128.475319</td>\n",
              "    </tr>\n",
              "    <tr>\n",
              "      <th>9998</th>\n",
              "      <td>Female</td>\n",
              "      <td>69.034243</td>\n",
              "      <td>163.852461</td>\n",
              "    </tr>\n",
              "    <tr>\n",
              "      <th>9999</th>\n",
              "      <td>Female</td>\n",
              "      <td>61.944246</td>\n",
              "      <td>113.649103</td>\n",
              "    </tr>\n",
              "  </tbody>\n",
              "</table>\n",
              "</div>\n",
              "      <button class=\"colab-df-convert\" onclick=\"convertToInteractive('df-940b83a3-0dcf-4604-af0e-958f3b895fb4')\"\n",
              "              title=\"Convert this dataframe to an interactive table.\"\n",
              "              style=\"display:none;\">\n",
              "        \n",
              "  <svg xmlns=\"http://www.w3.org/2000/svg\" height=\"24px\"viewBox=\"0 0 24 24\"\n",
              "       width=\"24px\">\n",
              "    <path d=\"M0 0h24v24H0V0z\" fill=\"none\"/>\n",
              "    <path d=\"M18.56 5.44l.94 2.06.94-2.06 2.06-.94-2.06-.94-.94-2.06-.94 2.06-2.06.94zm-11 1L8.5 8.5l.94-2.06 2.06-.94-2.06-.94L8.5 2.5l-.94 2.06-2.06.94zm10 10l.94 2.06.94-2.06 2.06-.94-2.06-.94-.94-2.06-.94 2.06-2.06.94z\"/><path d=\"M17.41 7.96l-1.37-1.37c-.4-.4-.92-.59-1.43-.59-.52 0-1.04.2-1.43.59L10.3 9.45l-7.72 7.72c-.78.78-.78 2.05 0 2.83L4 21.41c.39.39.9.59 1.41.59.51 0 1.02-.2 1.41-.59l7.78-7.78 2.81-2.81c.8-.78.8-2.07 0-2.86zM5.41 20L4 18.59l7.72-7.72 1.47 1.35L5.41 20z\"/>\n",
              "  </svg>\n",
              "      </button>\n",
              "      \n",
              "  <style>\n",
              "    .colab-df-container {\n",
              "      display:flex;\n",
              "      flex-wrap:wrap;\n",
              "      gap: 12px;\n",
              "    }\n",
              "\n",
              "    .colab-df-convert {\n",
              "      background-color: #E8F0FE;\n",
              "      border: none;\n",
              "      border-radius: 50%;\n",
              "      cursor: pointer;\n",
              "      display: none;\n",
              "      fill: #1967D2;\n",
              "      height: 32px;\n",
              "      padding: 0 0 0 0;\n",
              "      width: 32px;\n",
              "    }\n",
              "\n",
              "    .colab-df-convert:hover {\n",
              "      background-color: #E2EBFA;\n",
              "      box-shadow: 0px 1px 2px rgba(60, 64, 67, 0.3), 0px 1px 3px 1px rgba(60, 64, 67, 0.15);\n",
              "      fill: #174EA6;\n",
              "    }\n",
              "\n",
              "    [theme=dark] .colab-df-convert {\n",
              "      background-color: #3B4455;\n",
              "      fill: #D2E3FC;\n",
              "    }\n",
              "\n",
              "    [theme=dark] .colab-df-convert:hover {\n",
              "      background-color: #434B5C;\n",
              "      box-shadow: 0px 1px 3px 1px rgba(0, 0, 0, 0.15);\n",
              "      filter: drop-shadow(0px 1px 2px rgba(0, 0, 0, 0.3));\n",
              "      fill: #FFFFFF;\n",
              "    }\n",
              "  </style>\n",
              "\n",
              "      <script>\n",
              "        const buttonEl =\n",
              "          document.querySelector('#df-940b83a3-0dcf-4604-af0e-958f3b895fb4 button.colab-df-convert');\n",
              "        buttonEl.style.display =\n",
              "          google.colab.kernel.accessAllowed ? 'block' : 'none';\n",
              "\n",
              "        async function convertToInteractive(key) {\n",
              "          const element = document.querySelector('#df-940b83a3-0dcf-4604-af0e-958f3b895fb4');\n",
              "          const dataTable =\n",
              "            await google.colab.kernel.invokeFunction('convertToInteractive',\n",
              "                                                     [key], {});\n",
              "          if (!dataTable) return;\n",
              "\n",
              "          const docLinkHtml = 'Like what you see? Visit the ' +\n",
              "            '<a target=\"_blank\" href=https://colab.research.google.com/notebooks/data_table.ipynb>data table notebook</a>'\n",
              "            + ' to learn more about interactive tables.';\n",
              "          element.innerHTML = '';\n",
              "          dataTable['output_type'] = 'display_data';\n",
              "          await google.colab.output.renderOutput(dataTable, element);\n",
              "          const docLink = document.createElement('div');\n",
              "          docLink.innerHTML = docLinkHtml;\n",
              "          element.appendChild(docLink);\n",
              "        }\n",
              "      </script>\n",
              "    </div>\n",
              "  </div>\n",
              "  "
            ]
          },
          "metadata": {},
          "execution_count": 6
        }
      ],
      "source": [
        "df.tail()"
      ]
    },
    {
      "cell_type": "code",
      "execution_count": null,
      "metadata": {
        "colab": {
          "base_uri": "https://localhost:8080/"
        },
        "id": "a8GMOorwaMqc",
        "outputId": "bb19f621-5ec0-4478-ed57-cd512f4675ea"
      },
      "outputs": [
        {
          "output_type": "execute_result",
          "data": {
            "text/plain": [
              "(10000, 3)"
            ]
          },
          "metadata": {},
          "execution_count": 7
        }
      ],
      "source": [
        "df.shape"
      ]
    },
    {
      "cell_type": "code",
      "execution_count": null,
      "metadata": {
        "colab": {
          "base_uri": "https://localhost:8080/"
        },
        "id": "CDKPPj0PaPde",
        "outputId": "cb667cc2-a19f-4148-dd70-15fa3c9f368c"
      },
      "outputs": [
        {
          "output_type": "execute_result",
          "data": {
            "text/plain": [
              "Gender     object\n",
              "Height    float64\n",
              "Weight    float64\n",
              "dtype: object"
            ]
          },
          "metadata": {},
          "execution_count": 8
        }
      ],
      "source": [
        "df.dtypes"
      ]
    },
    {
      "cell_type": "code",
      "execution_count": null,
      "metadata": {
        "id": "Kgz5YYvJahJ0"
      },
      "outputs": [],
      "source": [
        "from sklearn.linear_model import LinearRegression\n",
        "df_min = df.sample(500, random_state=10)"
      ]
    },
    {
      "cell_type": "code",
      "execution_count": null,
      "metadata": {
        "id": "txSFBbRWbysf"
      },
      "outputs": [],
      "source": [
        "X = df_min['Weight'].values.reshape(-1,1)\n",
        "Y = df_min['Height'].values.reshape(-1,1)"
      ]
    },
    {
      "cell_type": "code",
      "execution_count": null,
      "metadata": {
        "colab": {
          "base_uri": "https://localhost:8080/",
          "height": 312
        },
        "id": "XyqRw7ojcHWz",
        "outputId": "c72471f9-1ed2-40e8-b476-b2bacc0437ee"
      },
      "outputs": [
        {
          "output_type": "execute_result",
          "data": {
            "text/plain": [
              "Text(0.5, 0, 'Peso')"
            ]
          },
          "metadata": {},
          "execution_count": 11
        },
        {
          "output_type": "display_data",
          "data": {
            "text/plain": [
              "<Figure size 432x288 with 1 Axes>"
            ],
            "image/png": "[encoded data removed]"
          },
          "metadata": {
            "needs_background": "light"
          }
        }
      ],
      "source": [
        "import matplotlib.pyplot as plt\n",
        "plt.scatter(X,Y)\n",
        "plt.title('Demostración de Regresión Lineal') # Agrego un titulo\n",
        "plt.ylabel('Altura') # defino un nombre del eje y\n",
        "plt.xlabel('Peso') # defino un nombre del eje x"
      ]
    },
    {
      "cell_type": "code",
      "execution_count": null,
      "metadata": {
        "id": "v3qE6mhdcWRZ"
      },
      "outputs": [],
      "source": [
        "reg = LinearRegression().fit(X,Y) "
      ]
    },
    {
      "cell_type": "code",
      "execution_count": null,
      "metadata": {
        "id": "GEdNiD7FcaAu"
      },
      "outputs": [],
      "source": [
        "y_hat = reg.predict(X)\n",
        "print(y_hat)"
      ]
    },
    {
      "cell_type": "code",
      "execution_count": null,
      "metadata": {
        "colab": {
          "base_uri": "https://localhost:8080/",
          "height": 312
        },
        "id": "8_MPT4qzc-Qy",
        "outputId": "d27c6f5d-4a81-4b50-dc91-2d412c576841"
      },
      "outputs": [
        {
          "output_type": "execute_result",
          "data": {
            "text/plain": [
              "Text(0.5, 0, 'Peso')"
            ]
          },
          "metadata": {},
          "execution_count": 14
        },
        {
          "output_type": "display_data",
          "data": {
            "text/plain": [
              "<Figure size 432x288 with 1 Axes>"
            ],
            "image/png": "[encoded data removed]"
          },
          "metadata": {
            "needs_background": "light"
          }
        }
      ],
      "source": [
        "import matplotlib.pyplot as plt # Esta libreria tiene herramientas para graficar\n",
        "\n",
        "# Recreamos la misma grafica pero ahora se muestra la recta obtenida\n",
        "\n",
        "plt.scatter(X,Y)\n",
        "plt.plot(X, y_hat, color='red')\n",
        "\n",
        "plt.title('Demostración de Regresión Lineal') # Agrego un titulo\n",
        "plt.ylabel('Altura') # defino un nombre del eje y\n",
        "plt.xlabel('Peso') # defino un nombre del eje x"
      ]
    },
    {
      "cell_type": "markdown",
      "metadata": {
        "id": "-Z0jdLzQf27q"
      },
      "source": [
        "**Homes i dones: Podem veure com no hi ha una correlació i són variables independents, no podem afirmar el pes d'una persona depenent la seva altura.**"
      ]
    },
    {
      "cell_type": "code",
      "execution_count": null,
      "metadata": {
        "colab": {
          "base_uri": "https://localhost:8080/",
          "height": 206
        },
        "id": "4P1TFlx3ga1x",
        "outputId": "db6f58b3-4d5d-4abf-97d1-52188c88b267"
      },
      "outputs": [
        {
          "data": {
            "text/html": [
              "\n",
              "  <div id=\"df-929da40a-fcd8-469d-aaa6-be6ce31c0180\">\n",
              "    <div class=\"colab-df-container\">\n",
              "      <div>\n",
              "<style scoped>\n",
              "    .dataframe tbody tr th:only-of-type {\n",
              "        vertical-align: middle;\n",
              "    }\n",
              "\n",
              "    .dataframe tbody tr th {\n",
              "        vertical-align: top;\n",
              "    }\n",
              "\n",
              "    .dataframe thead th {\n",
              "        text-align: right;\n",
              "    }\n",
              "</style>\n",
              "<table border=\"1\" class=\"dataframe\">\n",
              "  <thead>\n",
              "    <tr style=\"text-align: right;\">\n",
              "      <th></th>\n",
              "      <th>Gender</th>\n",
              "      <th>Height</th>\n",
              "      <th>Weight</th>\n",
              "    </tr>\n",
              "  </thead>\n",
              "  <tbody>\n",
              "    <tr>\n",
              "      <th>0</th>\n",
              "      <td>Male</td>\n",
              "      <td>73.847017</td>\n",
              "      <td>241.893563</td>\n",
              "    </tr>\n",
              "    <tr>\n",
              "      <th>1</th>\n",
              "      <td>Male</td>\n",
              "      <td>68.781904</td>\n",
              "      <td>162.310473</td>\n",
              "    </tr>\n",
              "    <tr>\n",
              "      <th>2</th>\n",
              "      <td>Male</td>\n",
              "      <td>74.110105</td>\n",
              "      <td>212.740856</td>\n",
              "    </tr>\n",
              "    <tr>\n",
              "      <th>3</th>\n",
              "      <td>Male</td>\n",
              "      <td>71.730978</td>\n",
              "      <td>220.042470</td>\n",
              "    </tr>\n",
              "    <tr>\n",
              "      <th>4</th>\n",
              "      <td>Male</td>\n",
              "      <td>69.881796</td>\n",
              "      <td>206.349801</td>\n",
              "    </tr>\n",
              "  </tbody>\n",
              "</table>\n",
              "</div>\n",
              "      <button class=\"colab-df-convert\" onclick=\"convertToInteractive('df-929da40a-fcd8-469d-aaa6-be6ce31c0180')\"\n",
              "              title=\"Convert this dataframe to an interactive table.\"\n",
              "              style=\"display:none;\">\n",
              "        \n",
              "  <svg xmlns=\"http://www.w3.org/2000/svg\" height=\"24px\"viewBox=\"0 0 24 24\"\n",
              "       width=\"24px\">\n",
              "    <path d=\"M0 0h24v24H0V0z\" fill=\"none\"/>\n",
              "    <path d=\"M18.56 5.44l.94 2.06.94-2.06 2.06-.94-2.06-.94-.94-2.06-.94 2.06-2.06.94zm-11 1L8.5 8.5l.94-2.06 2.06-.94-2.06-.94L8.5 2.5l-.94 2.06-2.06.94zm10 10l.94 2.06.94-2.06 2.06-.94-2.06-.94-.94-2.06-.94 2.06-2.06.94z\"/><path d=\"M17.41 7.96l-1.37-1.37c-.4-.4-.92-.59-1.43-.59-.52 0-1.04.2-1.43.59L10.3 9.45l-7.72 7.72c-.78.78-.78 2.05 0 2.83L4 21.41c.39.39.9.59 1.41.59.51 0 1.02-.2 1.41-.59l7.78-7.78 2.81-2.81c.8-.78.8-2.07 0-2.86zM5.41 20L4 18.59l7.72-7.72 1.47 1.35L5.41 20z\"/>\n",
              "  </svg>\n",
              "      </button>\n",
              "      \n",
              "  <style>\n",
              "    .colab-df-container {\n",
              "      display:flex;\n",
              "      flex-wrap:wrap;\n",
              "      gap: 12px;\n",
              "    }\n",
              "\n",
              "    .colab-df-convert {\n",
              "      background-color: #E8F0FE;\n",
              "      border: none;\n",
              "      border-radius: 50%;\n",
              "      cursor: pointer;\n",
              "      display: none;\n",
              "      fill: #1967D2;\n",
              "      height: 32px;\n",
              "      padding: 0 0 0 0;\n",
              "      width: 32px;\n",
              "    }\n",
              "\n",
              "    .colab-df-convert:hover {\n",
              "      background-color: #E2EBFA;\n",
              "      box-shadow: 0px 1px 2px rgba(60, 64, 67, 0.3), 0px 1px 3px 1px rgba(60, 64, 67, 0.15);\n",
              "      fill: #174EA6;\n",
              "    }\n",
              "\n",
              "    [theme=dark] .colab-df-convert {\n",
              "      background-color: #3B4455;\n",
              "      fill: #D2E3FC;\n",
              "    }\n",
              "\n",
              "    [theme=dark] .colab-df-convert:hover {\n",
              "      background-color: #434B5C;\n",
              "      box-shadow: 0px 1px 3px 1px rgba(0, 0, 0, 0.15);\n",
              "      filter: drop-shadow(0px 1px 2px rgba(0, 0, 0, 0.3));\n",
              "      fill: #FFFFFF;\n",
              "    }\n",
              "  </style>\n",
              "\n",
              "      <script>\n",
              "        const buttonEl =\n",
              "          document.querySelector('#df-929da40a-fcd8-469d-aaa6-be6ce31c0180 button.colab-df-convert');\n",
              "        buttonEl.style.display =\n",
              "          google.colab.kernel.accessAllowed ? 'block' : 'none';\n",
              "\n",
              "        async function convertToInteractive(key) {\n",
              "          const element = document.querySelector('#df-929da40a-fcd8-469d-aaa6-be6ce31c0180');\n",
              "          const dataTable =\n",
              "            await google.colab.kernel.invokeFunction('convertToInteractive',\n",
              "                                                     [key], {});\n",
              "          if (!dataTable) return;\n",
              "\n",
              "          const docLinkHtml = 'Like what you see? Visit the ' +\n",
              "            '<a target=\"_blank\" href=https://colab.research.google.com/notebooks/data_table.ipynb>data table notebook</a>'\n",
              "            + ' to learn more about interactive tables.';\n",
              "          element.innerHTML = '';\n",
              "          dataTable['output_type'] = 'display_data';\n",
              "          await google.colab.output.renderOutput(dataTable, element);\n",
              "          const docLink = document.createElement('div');\n",
              "          docLink.innerHTML = docLinkHtml;\n",
              "          element.appendChild(docLink);\n",
              "        }\n",
              "      </script>\n",
              "    </div>\n",
              "  </div>\n",
              "  "
            ],
            "text/plain": [
              "  Gender     Height      Weight\n",
              "0   Male  73.847017  241.893563\n",
              "1   Male  68.781904  162.310473\n",
              "2   Male  74.110105  212.740856\n",
              "3   Male  71.730978  220.042470\n",
              "4   Male  69.881796  206.349801"
            ]
          },
          "execution_count": 17,
          "metadata": {},
          "output_type": "execute_result"
        }
      ],
      "source": [
        "df.head()"
      ]
    },
    {
      "cell_type": "code",
      "execution_count": null,
      "metadata": {
        "id": "pEx7iuLBgb4U"
      },
      "outputs": [],
      "source": [
        "df_homes = df.loc[df['Gender'] == 'Male']\n"
      ]
    },
    {
      "cell_type": "code",
      "execution_count": null,
      "metadata": {
        "colab": {
          "base_uri": "https://localhost:8080/"
        },
        "id": "KRooFYuz9kpD",
        "outputId": "8565dcb8-6b93-43de-8513-e5df2e261f48"
      },
      "outputs": [
        {
          "output_type": "execute_result",
          "data": {
            "text/plain": [
              "(5000, 3)"
            ]
          },
          "metadata": {},
          "execution_count": 16
        }
      ],
      "source": [
        "df_homes.shape"
      ]
    },
    {
      "cell_type": "code",
      "execution_count": null,
      "metadata": {
        "id": "CfTd7yKri0og"
      },
      "outputs": [],
      "source": [
        "from sklearn.linear_model import LinearRegression\n",
        "df_homes_min = df_homes.sample(245, random_state=10)"
      ]
    },
    {
      "cell_type": "code",
      "execution_count": null,
      "metadata": {
        "id": "9eEa9nIfi8B5"
      },
      "outputs": [],
      "source": [
        "X1 = df_homes_min['Weight'].values.reshape(-1,1)\n",
        "Y1 = df_homes_min['Height'].values.reshape(-1,1)"
      ]
    },
    {
      "cell_type": "markdown",
      "metadata": {
        "id": "Slz6qmbFbHM1"
      },
      "source": [
        "# Regresio lineal nomes homes"
      ]
    },
    {
      "cell_type": "code",
      "execution_count": null,
      "metadata": {
        "colab": {
          "base_uri": "https://localhost:8080/",
          "height": 312
        },
        "id": "xxqab4s8jBc0",
        "outputId": "cfee7ed6-5328-4488-f187-ebe5f0e09a55"
      },
      "outputs": [
        {
          "output_type": "execute_result",
          "data": {
            "text/plain": [
              "Text(0.5, 0, 'Peso')"
            ]
          },
          "metadata": {},
          "execution_count": 19
        },
        {
          "output_type": "display_data",
          "data": {
            "text/plain": [
              "<Figure size 432x288 with 1 Axes>"
            ],
            "image/png": "[encoded data removed]"
          },
          "metadata": {
            "needs_background": "light"
          }
        }
      ],
      "source": [
        "import matplotlib.pyplot as plt\n",
        "plt.scatter(X1,Y1)\n",
        "plt.title('Demostración de Regresión Lineal') # Agrego un titulo\n",
        "plt.ylabel('Altura') # defino un nombre del eje y\n",
        "plt.xlabel('Peso') # defino un nombre del eje x"
      ]
    },
    {
      "cell_type": "code",
      "execution_count": null,
      "metadata": {
        "id": "NO7966BVjKC4"
      },
      "outputs": [],
      "source": [
        "reg1 = LinearRegression().fit(X1,Y1) "
      ]
    },
    {
      "cell_type": "code",
      "source": [
        "print(reg1.coef_)"
      ],
      "metadata": {
        "colab": {
          "base_uri": "https://localhost:8080/"
        },
        "id": "97Hq1pNf-Isi",
        "outputId": "494b165f-58aa-4572-f67d-d9b255ac251b"
      },
      "execution_count": null,
      "outputs": [
        {
          "output_type": "stream",
          "name": "stdout",
          "text": [
            "[[0.12690851]]\n"
          ]
        }
      ]
    },
    {
      "cell_type": "code",
      "execution_count": null,
      "metadata": {
        "id": "yJQSKg55jOLE",
        "colab": {
          "base_uri": "https://localhost:8080/"
        },
        "outputId": "97c78e4b-78ea-4766-af11-320acd5d02de"
      },
      "outputs": [
        {
          "output_type": "stream",
          "name": "stdout",
          "text": [
            "[[65.11213197]\n",
            " [64.8117683 ]\n",
            " [71.97718299]\n",
            " [68.53638839]\n",
            " [68.41611281]\n",
            " [65.42295165]\n",
            " [72.73341185]\n",
            " [65.81771483]\n",
            " [65.85082103]\n",
            " [69.34011378]\n",
            " [69.68232177]\n",
            " [69.56140118]\n",
            " [64.79139447]\n",
            " [69.10585825]\n",
            " [69.84715106]\n",
            " [71.58508623]\n",
            " [66.81019665]\n",
            " [69.3629618 ]\n",
            " [72.54560113]\n",
            " [68.95963531]\n",
            " [67.36046809]\n",
            " [66.33510985]\n",
            " [65.73021558]\n",
            " [70.29727708]\n",
            " [67.43967794]\n",
            " [67.70570067]\n",
            " [68.70534184]\n",
            " [64.78103119]\n",
            " [67.28073244]\n",
            " [72.02265886]\n",
            " [70.90687782]\n",
            " [67.30000197]\n",
            " [70.6846516 ]\n",
            " [66.08043971]\n",
            " [70.8204163 ]\n",
            " [68.52216317]\n",
            " [64.10249052]\n",
            " [66.5073876 ]\n",
            " [70.2652363 ]\n",
            " [71.34934688]\n",
            " [73.10580194]\n",
            " [71.39748477]\n",
            " [68.53371391]\n",
            " [68.42346578]\n",
            " [70.50745709]\n",
            " [67.4594699 ]\n",
            " [69.24310254]\n",
            " [70.51964096]\n",
            " [72.30489202]\n",
            " [70.34726435]\n",
            " [71.42792291]\n",
            " [70.52390675]\n",
            " [68.936021  ]\n",
            " [72.42736809]\n",
            " [67.88497551]\n",
            " [66.89241421]\n",
            " [73.5570396 ]\n",
            " [67.39691479]\n",
            " [64.10282676]\n",
            " [69.28070884]\n",
            " [73.29256269]\n",
            " [67.8667521 ]\n",
            " [66.14724002]\n",
            " [71.59144565]\n",
            " [69.68834568]\n",
            " [70.51835424]\n",
            " [69.30594054]\n",
            " [67.65571106]\n",
            " [68.7385317 ]\n",
            " [69.66686875]\n",
            " [70.56403662]\n",
            " [71.83679883]\n",
            " [66.01410708]\n",
            " [71.8138955 ]\n",
            " [69.510275  ]\n",
            " [68.94526802]\n",
            " [73.22162138]\n",
            " [66.515798  ]\n",
            " [67.68254194]\n",
            " [65.6608185 ]\n",
            " [70.69139059]\n",
            " [67.15033202]\n",
            " [70.17033507]\n",
            " [72.7899111 ]\n",
            " [65.64711653]\n",
            " [70.5391185 ]\n",
            " [73.1665602 ]\n",
            " [66.95442571]\n",
            " [72.5089988 ]\n",
            " [72.00253822]\n",
            " [73.64727752]\n",
            " [73.15710848]\n",
            " [71.60962532]\n",
            " [71.3899627 ]\n",
            " [65.4761965 ]\n",
            " [73.38207596]\n",
            " [67.62142672]\n",
            " [67.42012596]\n",
            " [68.07987025]\n",
            " [68.13432303]\n",
            " [65.86484059]\n",
            " [71.09736446]\n",
            " [70.01156848]\n",
            " [68.90801453]\n",
            " [68.94357612]\n",
            " [70.30685614]\n",
            " [73.60936181]\n",
            " [68.73789401]\n",
            " [68.66197009]\n",
            " [69.11048544]\n",
            " [65.92719938]\n",
            " [67.3596022 ]\n",
            " [66.4914113 ]\n",
            " [70.89408472]\n",
            " [66.32682831]\n",
            " [69.67730447]\n",
            " [68.65845801]\n",
            " [70.42988272]\n",
            " [69.40272695]\n",
            " [63.96955852]\n",
            " [66.68009716]\n",
            " [69.79503426]\n",
            " [65.19059082]\n",
            " [67.58497724]\n",
            " [72.40598783]\n",
            " [65.01110605]\n",
            " [70.11998749]\n",
            " [67.83185257]\n",
            " [68.41607576]\n",
            " [68.95037732]\n",
            " [71.00312038]\n",
            " [73.71972846]\n",
            " [71.18970339]\n",
            " [69.00836359]\n",
            " [65.81067202]\n",
            " [77.46529491]\n",
            " [67.99337947]\n",
            " [72.84667856]\n",
            " [66.62950438]\n",
            " [68.19646655]\n",
            " [70.83374428]\n",
            " [72.81418821]\n",
            " [68.74170638]\n",
            " [68.33429616]\n",
            " [64.23642096]\n",
            " [70.31755245]\n",
            " [65.41240209]\n",
            " [73.17439811]\n",
            " [67.53456556]\n",
            " [71.80068198]\n",
            " [68.28888838]\n",
            " [72.5680176 ]\n",
            " [67.7357314 ]\n",
            " [66.93291244]\n",
            " [71.56023624]\n",
            " [70.21956223]\n",
            " [72.4956321 ]\n",
            " [66.6191456 ]\n",
            " [67.98877862]\n",
            " [66.49010585]\n",
            " [69.11600263]\n",
            " [66.42202775]\n",
            " [65.29961316]\n",
            " [69.5481739 ]\n",
            " [67.01651487]\n",
            " [74.33781294]\n",
            " [69.1555629 ]\n",
            " [69.9284008 ]\n",
            " [68.5103988 ]\n",
            " [72.77104144]\n",
            " [67.99192875]\n",
            " [74.04485844]\n",
            " [71.7086961 ]\n",
            " [74.23427465]\n",
            " [73.70811536]\n",
            " [67.09186333]\n",
            " [72.29548651]\n",
            " [69.68179444]\n",
            " [69.86519196]\n",
            " [67.37649457]\n",
            " [67.09681682]\n",
            " [71.40123491]\n",
            " [68.62073805]\n",
            " [67.75270832]\n",
            " [65.33419768]\n",
            " [72.82247394]\n",
            " [69.17912173]\n",
            " [68.16588632]\n",
            " [66.44378205]\n",
            " [71.84650112]\n",
            " [69.29656248]\n",
            " [68.22749762]\n",
            " [70.54945973]\n",
            " [67.18408017]\n",
            " [67.36929445]\n",
            " [69.61422417]\n",
            " [70.60101675]\n",
            " [66.76924558]\n",
            " [71.57773886]\n",
            " [66.54682161]\n",
            " [67.04054099]\n",
            " [68.72626543]\n",
            " [69.85033367]\n",
            " [70.19856857]\n",
            " [70.99445766]\n",
            " [69.51564259]\n",
            " [72.12856392]\n",
            " [69.57803255]\n",
            " [66.12974572]\n",
            " [67.79770743]\n",
            " [67.31270174]\n",
            " [69.30628304]\n",
            " [65.03660234]\n",
            " [66.36454168]\n",
            " [69.66638928]\n",
            " [71.17981557]\n",
            " [72.60039372]\n",
            " [71.26586326]\n",
            " [67.82754156]\n",
            " [71.18925114]\n",
            " [68.22581409]\n",
            " [68.29562123]\n",
            " [67.19371914]\n",
            " [67.57304521]\n",
            " [68.48270841]\n",
            " [71.24077196]\n",
            " [69.32651573]\n",
            " [66.51107307]\n",
            " [68.23799483]\n",
            " [70.2373861 ]\n",
            " [68.38866485]\n",
            " [68.22617844]\n",
            " [69.10769826]\n",
            " [65.20623694]\n",
            " [66.89683523]\n",
            " [69.26375022]\n",
            " [70.56897677]\n",
            " [69.64136318]\n",
            " [69.58456148]\n",
            " [68.6461448 ]\n",
            " [66.54408823]\n",
            " [67.31336641]\n",
            " [69.70831691]\n",
            " [68.88291185]\n",
            " [69.94352712]]\n"
          ]
        }
      ],
      "source": [
        "y_hat1 = reg1.predict(X1)\n",
        "print(y_hat1)"
      ]
    },
    {
      "cell_type": "code",
      "execution_count": null,
      "metadata": {
        "colab": {
          "base_uri": "https://localhost:8080/",
          "height": 312
        },
        "id": "kGjEhiBZjV95",
        "outputId": "440e44c7-2e17-45d4-d804-4746df292669"
      },
      "outputs": [
        {
          "output_type": "execute_result",
          "data": {
            "text/plain": [
              "Text(0.5, 0, 'Peso')"
            ]
          },
          "metadata": {},
          "execution_count": 22
        },
        {
          "output_type": "display_data",
          "data": {
            "text/plain": [
              "<Figure size 432x288 with 1 Axes>"
            ],
            "image/png": "[encoded data removed]"
          },
          "metadata": {
            "needs_background": "light"
          }
        }
      ],
      "source": [
        "import matplotlib.pyplot as plt # Esta libreria tiene herramientas para graficar\n",
        "\n",
        "# Recreamos la misma grafica pero ahora se muestra la recta obtenida\n",
        "\n",
        "plt.scatter(X1,Y1)\n",
        "plt.plot(X1, y_hat1, color='green')\n",
        "\n",
        "plt.title('Demostración de Regresión Lineal') # Agrego un titulo\n",
        "plt.ylabel('Altura') # defino un nombre del eje y\n",
        "plt.xlabel('Peso') # defino un nombre del eje x"
      ]
    },
    {
      "cell_type": "markdown",
      "metadata": {
        "id": "Qoi85iLAjkka"
      },
      "source": [
        "**Homes : Podem veure com no hi ha una correlació i són variables independents, no podem afirmar el pes d'una persona depenent la seva altura.**"
      ]
    },
    {
      "cell_type": "code",
      "execution_count": null,
      "metadata": {
        "colab": {
          "base_uri": "https://localhost:8080/",
          "height": 206
        },
        "id": "WCie61npjqTN",
        "outputId": "d8fcb3e5-e4ae-4ae5-cf91-8e83f80361f2"
      },
      "outputs": [
        {
          "output_type": "execute_result",
          "data": {
            "text/plain": [
              "  Gender     Height      Weight\n",
              "0   Male  73.847017  241.893563\n",
              "1   Male  68.781904  162.310473\n",
              "2   Male  74.110105  212.740856\n",
              "3   Male  71.730978  220.042470\n",
              "4   Male  69.881796  206.349801"
            ],
            "text/html": [
              "\n",
              "  <div id=\"df-135fc60c-11ad-499e-96ff-81a74d4ec087\">\n",
              "    <div class=\"colab-df-container\">\n",
              "      <div>\n",
              "<style scoped>\n",
              "    .dataframe tbody tr th:only-of-type {\n",
              "        vertical-align: middle;\n",
              "    }\n",
              "\n",
              "    .dataframe tbody tr th {\n",
              "        vertical-align: top;\n",
              "    }\n",
              "\n",
              "    .dataframe thead th {\n",
              "        text-align: right;\n",
              "    }\n",
              "</style>\n",
              "<table border=\"1\" class=\"dataframe\">\n",
              "  <thead>\n",
              "    <tr style=\"text-align: right;\">\n",
              "      <th></th>\n",
              "      <th>Gender</th>\n",
              "      <th>Height</th>\n",
              "      <th>Weight</th>\n",
              "    </tr>\n",
              "  </thead>\n",
              "  <tbody>\n",
              "    <tr>\n",
              "      <th>0</th>\n",
              "      <td>Male</td>\n",
              "      <td>73.847017</td>\n",
              "      <td>241.893563</td>\n",
              "    </tr>\n",
              "    <tr>\n",
              "      <th>1</th>\n",
              "      <td>Male</td>\n",
              "      <td>68.781904</td>\n",
              "      <td>162.310473</td>\n",
              "    </tr>\n",
              "    <tr>\n",
              "      <th>2</th>\n",
              "      <td>Male</td>\n",
              "      <td>74.110105</td>\n",
              "      <td>212.740856</td>\n",
              "    </tr>\n",
              "    <tr>\n",
              "      <th>3</th>\n",
              "      <td>Male</td>\n",
              "      <td>71.730978</td>\n",
              "      <td>220.042470</td>\n",
              "    </tr>\n",
              "    <tr>\n",
              "      <th>4</th>\n",
              "      <td>Male</td>\n",
              "      <td>69.881796</td>\n",
              "      <td>206.349801</td>\n",
              "    </tr>\n",
              "  </tbody>\n",
              "</table>\n",
              "</div>\n",
              "      <button class=\"colab-df-convert\" onclick=\"convertToInteractive('df-135fc60c-11ad-499e-96ff-81a74d4ec087')\"\n",
              "              title=\"Convert this dataframe to an interactive table.\"\n",
              "              style=\"display:none;\">\n",
              "        \n",
              "  <svg xmlns=\"http://www.w3.org/2000/svg\" height=\"24px\"viewBox=\"0 0 24 24\"\n",
              "       width=\"24px\">\n",
              "    <path d=\"M0 0h24v24H0V0z\" fill=\"none\"/>\n",
              "    <path d=\"M18.56 5.44l.94 2.06.94-2.06 2.06-.94-2.06-.94-.94-2.06-.94 2.06-2.06.94zm-11 1L8.5 8.5l.94-2.06 2.06-.94-2.06-.94L8.5 2.5l-.94 2.06-2.06.94zm10 10l.94 2.06.94-2.06 2.06-.94-2.06-.94-.94-2.06-.94 2.06-2.06.94z\"/><path d=\"M17.41 7.96l-1.37-1.37c-.4-.4-.92-.59-1.43-.59-.52 0-1.04.2-1.43.59L10.3 9.45l-7.72 7.72c-.78.78-.78 2.05 0 2.83L4 21.41c.39.39.9.59 1.41.59.51 0 1.02-.2 1.41-.59l7.78-7.78 2.81-2.81c.8-.78.8-2.07 0-2.86zM5.41 20L4 18.59l7.72-7.72 1.47 1.35L5.41 20z\"/>\n",
              "  </svg>\n",
              "      </button>\n",
              "      \n",
              "  <style>\n",
              "    .colab-df-container {\n",
              "      display:flex;\n",
              "      flex-wrap:wrap;\n",
              "      gap: 12px;\n",
              "    }\n",
              "\n",
              "    .colab-df-convert {\n",
              "      background-color: #E8F0FE;\n",
              "      border: none;\n",
              "      border-radius: 50%;\n",
              "      cursor: pointer;\n",
              "      display: none;\n",
              "      fill: #1967D2;\n",
              "      height: 32px;\n",
              "      padding: 0 0 0 0;\n",
              "      width: 32px;\n",
              "    }\n",
              "\n",
              "    .colab-df-convert:hover {\n",
              "      background-color: #E2EBFA;\n",
              "      box-shadow: 0px 1px 2px rgba(60, 64, 67, 0.3), 0px 1px 3px 1px rgba(60, 64, 67, 0.15);\n",
              "      fill: #174EA6;\n",
              "    }\n",
              "\n",
              "    [theme=dark] .colab-df-convert {\n",
              "      background-color: #3B4455;\n",
              "      fill: #D2E3FC;\n",
              "    }\n",
              "\n",
              "    [theme=dark] .colab-df-convert:hover {\n",
              "      background-color: #434B5C;\n",
              "      box-shadow: 0px 1px 3px 1px rgba(0, 0, 0, 0.15);\n",
              "      filter: drop-shadow(0px 1px 2px rgba(0, 0, 0, 0.3));\n",
              "      fill: #FFFFFF;\n",
              "    }\n",
              "  </style>\n",
              "\n",
              "      <script>\n",
              "        const buttonEl =\n",
              "          document.querySelector('#df-135fc60c-11ad-499e-96ff-81a74d4ec087 button.colab-df-convert');\n",
              "        buttonEl.style.display =\n",
              "          google.colab.kernel.accessAllowed ? 'block' : 'none';\n",
              "\n",
              "        async function convertToInteractive(key) {\n",
              "          const element = document.querySelector('#df-135fc60c-11ad-499e-96ff-81a74d4ec087');\n",
              "          const dataTable =\n",
              "            await google.colab.kernel.invokeFunction('convertToInteractive',\n",
              "                                                     [key], {});\n",
              "          if (!dataTable) return;\n",
              "\n",
              "          const docLinkHtml = 'Like what you see? Visit the ' +\n",
              "            '<a target=\"_blank\" href=https://colab.research.google.com/notebooks/data_table.ipynb>data table notebook</a>'\n",
              "            + ' to learn more about interactive tables.';\n",
              "          element.innerHTML = '';\n",
              "          dataTable['output_type'] = 'display_data';\n",
              "          await google.colab.output.renderOutput(dataTable, element);\n",
              "          const docLink = document.createElement('div');\n",
              "          docLink.innerHTML = docLinkHtml;\n",
              "          element.appendChild(docLink);\n",
              "        }\n",
              "      </script>\n",
              "    </div>\n",
              "  </div>\n",
              "  "
            ]
          },
          "metadata": {},
          "execution_count": 23
        }
      ],
      "source": [
        "df.head()"
      ]
    },
    {
      "cell_type": "code",
      "execution_count": null,
      "metadata": {
        "id": "BzHstcCBjs7N"
      },
      "outputs": [],
      "source": [
        "df_dones = df.loc[df['Gender'] == 'Female']"
      ]
    },
    {
      "cell_type": "code",
      "execution_count": null,
      "metadata": {
        "colab": {
          "base_uri": "https://localhost:8080/"
        },
        "id": "hz8R9eE69wSL",
        "outputId": "28f5e6c5-b1a4-4471-a651-3ff26bfbd115"
      },
      "outputs": [
        {
          "output_type": "execute_result",
          "data": {
            "text/plain": [
              "(5000, 3)"
            ]
          },
          "metadata": {},
          "execution_count": 25
        }
      ],
      "source": [
        "df_dones.shape"
      ]
    },
    {
      "cell_type": "code",
      "execution_count": null,
      "metadata": {
        "id": "rcqI64FUj0UE"
      },
      "outputs": [],
      "source": [
        "from sklearn.linear_model import LinearRegression\n",
        "df_dones_min = df_dones.sample(255, random_state=10)"
      ]
    },
    {
      "cell_type": "code",
      "execution_count": null,
      "metadata": {
        "id": "Qltu9pAMj6S9"
      },
      "outputs": [],
      "source": [
        "X2 = df_dones_min['Weight'].values.reshape(-1,1)\n",
        "Y2 = df_dones_min['Height'].values.reshape(-1,1)"
      ]
    },
    {
      "cell_type": "code",
      "execution_count": null,
      "metadata": {
        "colab": {
          "base_uri": "https://localhost:8080/",
          "height": 312
        },
        "id": "Vd6pD8wKkBtR",
        "outputId": "9b062012-cbed-41fd-ca69-d25261f47af2"
      },
      "outputs": [
        {
          "output_type": "execute_result",
          "data": {
            "text/plain": [
              "Text(0.5, 0, 'Peso')"
            ]
          },
          "metadata": {},
          "execution_count": 28
        },
        {
          "output_type": "display_data",
          "data": {
            "text/plain": [
              "<Figure size 432x288 with 1 Axes>"
            ],
            "image/png": "[encoded data removed]"
          },
          "metadata": {
            "needs_background": "light"
          }
        }
      ],
      "source": [
        "import matplotlib.pyplot as plt\n",
        "plt.scatter(X2,Y2)\n",
        "plt.title('Demostración de Regresión Lineal') # Agrego un titulo\n",
        "plt.ylabel('Altura') # defino un nombre del eje y\n",
        "plt.xlabel('Peso') # defino un nombre del eje x"
      ]
    },
    {
      "cell_type": "code",
      "execution_count": null,
      "metadata": {
        "id": "ZjTVywPDkHex"
      },
      "outputs": [],
      "source": [
        "reg2 = LinearRegression().fit(X2,Y2) "
      ]
    },
    {
      "cell_type": "code",
      "source": [
        "print(reg2.coef_)"
      ],
      "metadata": {
        "colab": {
          "base_uri": "https://localhost:8080/"
        },
        "id": "Mhuc7NxF94h9",
        "outputId": "211c97d6-56b0-432c-eab4-96083c879bd7"
      },
      "execution_count": null,
      "outputs": [
        {
          "output_type": "stream",
          "name": "stdout",
          "text": [
            "[[0.12003852]]\n"
          ]
        }
      ]
    },
    {
      "cell_type": "markdown",
      "source": [
        "[[0.12690851]] --> homes\n",
        "[[0.12003852]] --> dones"
      ],
      "metadata": {
        "id": "UmznkYyQ-Opy"
      }
    },
    {
      "cell_type": "code",
      "execution_count": null,
      "metadata": {
        "id": "nqLDOHR-kLcD",
        "colab": {
          "base_uri": "https://localhost:8080/"
        },
        "outputId": "e9159d5a-4d7f-41d2-aab8-53dced0e9229"
      },
      "outputs": [
        {
          "output_type": "stream",
          "name": "stdout",
          "text": [
            "[[65.50295672]\n",
            " [66.93653753]\n",
            " [64.19063461]\n",
            " [64.17540729]\n",
            " [63.61541597]\n",
            " [60.72987303]\n",
            " [64.63734889]\n",
            " [64.85735921]\n",
            " [60.8188891 ]\n",
            " [63.74407488]\n",
            " [70.5841861 ]\n",
            " [64.07816248]\n",
            " [62.4240034 ]\n",
            " [64.88211396]\n",
            " [60.56256788]\n",
            " [62.25738553]\n",
            " [66.7204042 ]\n",
            " [61.06305378]\n",
            " [67.2808857 ]\n",
            " [62.92084673]\n",
            " [60.41509813]\n",
            " [65.75640197]\n",
            " [65.03344564]\n",
            " [62.81485598]\n",
            " [61.39796223]\n",
            " [64.01282795]\n",
            " [63.69570107]\n",
            " [64.14929225]\n",
            " [65.47488773]\n",
            " [62.35048416]\n",
            " [64.86335338]\n",
            " [67.26020166]\n",
            " [62.2216114 ]\n",
            " [64.33627555]\n",
            " [61.43882795]\n",
            " [60.35589558]\n",
            " [67.40949988]\n",
            " [63.32457816]\n",
            " [64.07206719]\n",
            " [66.24329028]\n",
            " [66.25736333]\n",
            " [64.23445041]\n",
            " [64.73104229]\n",
            " [62.06125649]\n",
            " [65.38019713]\n",
            " [67.10887726]\n",
            " [63.83006674]\n",
            " [64.65453161]\n",
            " [63.31282597]\n",
            " [62.78996959]\n",
            " [64.09656508]\n",
            " [63.62856288]\n",
            " [67.809342  ]\n",
            " [61.38825071]\n",
            " [63.2422768 ]\n",
            " [65.23161143]\n",
            " [63.24029937]\n",
            " [64.65843014]\n",
            " [64.73984959]\n",
            " [65.63262816]\n",
            " [64.01992448]\n",
            " [64.55669221]\n",
            " [62.12488185]\n",
            " [60.59761578]\n",
            " [63.63983967]\n",
            " [64.5134466 ]\n",
            " [62.22235676]\n",
            " [62.12760416]\n",
            " [64.83466076]\n",
            " [67.14518954]\n",
            " [61.3430339 ]\n",
            " [61.56863394]\n",
            " [63.60606584]\n",
            " [63.00562583]\n",
            " [64.27515884]\n",
            " [68.20882251]\n",
            " [62.56998596]\n",
            " [62.94670712]\n",
            " [64.90458219]\n",
            " [63.44846199]\n",
            " [60.80033997]\n",
            " [63.32976774]\n",
            " [64.31075028]\n",
            " [65.27461418]\n",
            " [65.67398223]\n",
            " [65.4780694 ]\n",
            " [61.2609001 ]\n",
            " [63.002227  ]\n",
            " [62.96536302]\n",
            " [61.29544587]\n",
            " [65.57830242]\n",
            " [61.40396829]\n",
            " [62.12922625]\n",
            " [60.63566347]\n",
            " [65.46818208]\n",
            " [62.11818457]\n",
            " [61.33797389]\n",
            " [62.71140204]\n",
            " [62.90001997]\n",
            " [60.91126844]\n",
            " [68.95592577]\n",
            " [63.63891885]\n",
            " [68.18230299]\n",
            " [63.51500275]\n",
            " [64.15222121]\n",
            " [60.96207787]\n",
            " [62.17921598]\n",
            " [64.34068239]\n",
            " [60.41334021]\n",
            " [59.60232491]\n",
            " [62.73288415]\n",
            " [62.95999528]\n",
            " [60.6327666 ]\n",
            " [60.8599538 ]\n",
            " [63.62544202]\n",
            " [69.57963724]\n",
            " [63.70433442]\n",
            " [62.58317587]\n",
            " [59.54083763]\n",
            " [64.059583  ]\n",
            " [58.68123805]\n",
            " [61.94433154]\n",
            " [66.22060405]\n",
            " [64.5847675 ]\n",
            " [64.85272968]\n",
            " [66.73120079]\n",
            " [66.52199554]\n",
            " [59.87433893]\n",
            " [68.88062372]\n",
            " [61.52853987]\n",
            " [64.85303847]\n",
            " [64.93535936]\n",
            " [61.16186154]\n",
            " [60.34458749]\n",
            " [62.23598605]\n",
            " [65.38320217]\n",
            " [64.41936688]\n",
            " [65.87362375]\n",
            " [64.80150201]\n",
            " [62.03108528]\n",
            " [63.49355495]\n",
            " [60.06668339]\n",
            " [66.38672294]\n",
            " [66.31449368]\n",
            " [59.06728259]\n",
            " [63.00971956]\n",
            " [64.04234545]\n",
            " [66.76056515]\n",
            " [66.65767344]\n",
            " [64.0834844 ]\n",
            " [66.55243754]\n",
            " [64.7331724 ]\n",
            " [61.262469  ]\n",
            " [65.02102592]\n",
            " [63.92153147]\n",
            " [63.16836141]\n",
            " [66.17976161]\n",
            " [62.79714462]\n",
            " [65.26100244]\n",
            " [64.61773624]\n",
            " [61.36872972]\n",
            " [67.31542833]\n",
            " [65.62121137]\n",
            " [67.56718055]\n",
            " [67.70808126]\n",
            " [62.55089424]\n",
            " [65.15263202]\n",
            " [60.8109074 ]\n",
            " [63.73338655]\n",
            " [62.49484748]\n",
            " [61.03785687]\n",
            " [60.19228025]\n",
            " [60.65144793]\n",
            " [59.25244781]\n",
            " [63.33491757]\n",
            " [64.4986126 ]\n",
            " [66.04457018]\n",
            " [63.24108059]\n",
            " [63.6412858 ]\n",
            " [65.680804  ]\n",
            " [62.37757573]\n",
            " [62.87302568]\n",
            " [68.92280693]\n",
            " [66.54642123]\n",
            " [64.19492931]\n",
            " [64.59149688]\n",
            " [59.61669387]\n",
            " [62.96790311]\n",
            " [63.34878867]\n",
            " [66.867352  ]\n",
            " [62.95187535]\n",
            " [61.98784439]\n",
            " [61.01564214]\n",
            " [68.12795387]\n",
            " [61.61970859]\n",
            " [66.5263194 ]\n",
            " [66.23748053]\n",
            " [64.58868561]\n",
            " [64.1455566 ]\n",
            " [64.59806351]\n",
            " [62.45265887]\n",
            " [67.10183218]\n",
            " [60.46097688]\n",
            " [68.7975813 ]\n",
            " [66.11722046]\n",
            " [61.21934911]\n",
            " [65.65179689]\n",
            " [61.4866315 ]\n",
            " [67.28424152]\n",
            " [60.28579444]\n",
            " [62.30648374]\n",
            " [64.47039595]\n",
            " [61.7592644 ]\n",
            " [60.2835422 ]\n",
            " [65.79722905]\n",
            " [67.34164798]\n",
            " [63.59430309]\n",
            " [62.87955262]\n",
            " [67.04249726]\n",
            " [64.66210125]\n",
            " [67.21407109]\n",
            " [60.60494888]\n",
            " [61.54571675]\n",
            " [65.13073713]\n",
            " [59.60650938]\n",
            " [65.99988826]\n",
            " [60.73272017]\n",
            " [64.2801342 ]\n",
            " [62.20774969]\n",
            " [62.88180639]\n",
            " [65.27360764]\n",
            " [63.06899544]\n",
            " [63.48666265]\n",
            " [69.75287514]\n",
            " [56.19955023]\n",
            " [63.35605491]\n",
            " [64.04958728]\n",
            " [60.6208345 ]\n",
            " [61.25823556]\n",
            " [63.11566008]\n",
            " [63.80384321]\n",
            " [62.00530741]\n",
            " [69.32377456]\n",
            " [64.72530062]\n",
            " [61.08917013]\n",
            " [60.55712689]\n",
            " [63.13352662]\n",
            " [61.24317735]\n",
            " [62.53637334]\n",
            " [65.74563924]\n",
            " [63.28066071]\n",
            " [66.04699923]\n",
            " [58.94549072]\n",
            " [57.94595765]\n",
            " [62.02778385]]\n"
          ]
        }
      ],
      "source": [
        "y_hat2 = reg2.predict(X2)\n",
        "print(y_hat2)"
      ]
    },
    {
      "cell_type": "code",
      "execution_count": null,
      "metadata": {
        "colab": {
          "base_uri": "https://localhost:8080/",
          "height": 312
        },
        "id": "8wgw9UdAkQSQ",
        "outputId": "e3f2ee35-05b4-4e2d-d5b4-74749ebafea2"
      },
      "outputs": [
        {
          "output_type": "execute_result",
          "data": {
            "text/plain": [
              "Text(0.5, 0, 'Peso')"
            ]
          },
          "metadata": {},
          "execution_count": 31
        },
        {
          "output_type": "display_data",
          "data": {
            "text/plain": [
              "<Figure size 432x288 with 1 Axes>"
            ],
            "image/png": "[encoded data removed]"
          },
          "metadata": {
            "needs_background": "light"
          }
        }
      ],
      "source": [
        "import matplotlib.pyplot as plt # Esta libreria tiene herramientas para graficar\n",
        "\n",
        "# Recreamos la misma grafica pero ahora se muestra la recta obtenida\n",
        "\n",
        "plt.scatter(X2,Y2)\n",
        "plt.plot(X2, y_hat2, color='green')\n",
        "\n",
        "plt.title('Demostración de Regresión Lineal') # Agrego un titulo\n",
        "plt.ylabel('Altura') # defino un nombre del eje y\n",
        "plt.xlabel('Peso') # defino un nombre del eje x"
      ]
    },
    {
      "cell_type": "markdown",
      "metadata": {
        "id": "8YClc8ZCke7d"
      },
      "source": [
        "**Dones : Podem veure com no hi ha una correlació i són variables independents, no podem afirmar el pes d'una persona depenent la seva altura.**"
      ]
    },
    {
      "cell_type": "code",
      "execution_count": null,
      "metadata": {
        "id": "M__nM7pXXsB5"
      },
      "outputs": [],
      "source": []
    }
  ],
  "metadata": {
    "colab": {
      "collapsed_sections": [
        "Slz6qmbFbHM1"
      ],
      "provenance": []
    },
    "kernelspec": {
      "display_name": "Python 3",
      "name": "python3"
    },
    "language_info": {
      "name": "python"
    }
  },
  "nbformat": 4,
  "nbformat_minor": 0
}